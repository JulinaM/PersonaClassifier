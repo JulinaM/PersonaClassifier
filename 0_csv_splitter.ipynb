{
 "cells": [
  {
   "cell_type": "code",
   "execution_count": 11,
   "metadata": {},
   "outputs": [
    {
     "name": "stderr",
     "output_type": "stream",
     "text": [
      "[nltk_data] Downloading package wordnet to /home/jmaharja/nltk_data...\n",
      "[nltk_data]   Package wordnet is already up-to-date!\n",
      "[nltk_data] Downloading package omw-1.4 to /home/jmaharja/nltk_data...\n",
      "[nltk_data] Downloading package stopwords to\n",
      "[nltk_data]     /home/jmaharja/nltk_data...\n",
      "[nltk_data]   Package stopwords is already up-to-date!\n"
     ]
    }
   ],
   "source": [
    "import pandas as pd\n",
    "from sklearn.model_selection import train_test_split\n",
    "import re\n",
    "import string\n",
    "from nltk.stem import WordNetLemmatizer\n",
    "from nltk.corpus import stopwords\n",
    "from nltk import download\n",
    "\n",
    "# Download resources for lemmatization\n",
    "download('wordnet')      # WordNet lemmatizer\n",
    "download('omw-1.4')      # Open Multilingual WordNet\n",
    "download('stopwords')    # Stopwords\n",
    "\n",
    "# Initialize lemmatizer and stopwords\n",
    "lemmatizer = WordNetLemmatizer()\n",
    "stop_words = set(stopwords.words('english'))\n"
   ]
  },
  {
   "cell_type": "code",
   "execution_count": 3,
   "metadata": {},
   "outputs": [
    {
     "name": "stdout",
     "output_type": "stream",
     "text": [
      "Data successfully split and saved!\n"
     ]
    }
   ],
   "source": [
    "file_path = '/data/jmharja/projects/PersonaClassifier/data/pandora_processed_data_nov_12.csv'  # Replace with your CSV file path\n",
    "data = pd.read_csv(file_path)\n",
    "data = data.loc[:, ~data.columns.str.contains('^Unnamed:')]\n",
    "data.head(1)"
   ]
  },
  {
   "cell_type": "code",
   "execution_count": 12,
   "metadata": {},
   "outputs": [
    {
     "data": {
      "text/html": [
       "<div>\n",
       "<style scoped>\n",
       "    .dataframe tbody tr th:only-of-type {\n",
       "        vertical-align: middle;\n",
       "    }\n",
       "\n",
       "    .dataframe tbody tr th {\n",
       "        vertical-align: top;\n",
       "    }\n",
       "\n",
       "    .dataframe thead th {\n",
       "        text-align: right;\n",
       "    }\n",
       "</style>\n",
       "<table border=\"1\" class=\"dataframe\">\n",
       "  <thead>\n",
       "    <tr style=\"text-align: right;\">\n",
       "      <th></th>\n",
       "      <th>STATUS</th>\n",
       "      <th>cAGR</th>\n",
       "      <th>cOPN</th>\n",
       "      <th>cCON</th>\n",
       "      <th>cEXT</th>\n",
       "      <th>cNEU</th>\n",
       "      <th>Segment</th>\n",
       "      <th>WC</th>\n",
       "      <th>Analytic</th>\n",
       "      <th>Clout</th>\n",
       "      <th>...</th>\n",
       "      <th>disgust</th>\n",
       "      <th>fear</th>\n",
       "      <th>joy</th>\n",
       "      <th>negative</th>\n",
       "      <th>positive</th>\n",
       "      <th>sadness</th>\n",
       "      <th>surprise</th>\n",
       "      <th>trust</th>\n",
       "      <th>sent_score</th>\n",
       "      <th>cleaned_status</th>\n",
       "    </tr>\n",
       "  </thead>\n",
       "  <tbody>\n",
       "    <tr>\n",
       "      <th>0</th>\n",
       "      <td>Those stats come from the test. [Echoing the c...</td>\n",
       "      <td>0</td>\n",
       "      <td>1</td>\n",
       "      <td>0</td>\n",
       "      <td>0</td>\n",
       "      <td>1</td>\n",
       "      <td>1</td>\n",
       "      <td>152</td>\n",
       "      <td>72.80</td>\n",
       "      <td>40.06</td>\n",
       "      <td>...</td>\n",
       "      <td>0</td>\n",
       "      <td>1</td>\n",
       "      <td>2</td>\n",
       "      <td>2</td>\n",
       "      <td>12</td>\n",
       "      <td>0</td>\n",
       "      <td>2</td>\n",
       "      <td>6</td>\n",
       "      <td>0.3919</td>\n",
       "      <td>stats come test echoing comment made related q...</td>\n",
       "    </tr>\n",
       "    <tr>\n",
       "      <th>1</th>\n",
       "      <td>That's great to hear! I hope you know that, de...</td>\n",
       "      <td>0</td>\n",
       "      <td>1</td>\n",
       "      <td>0</td>\n",
       "      <td>0</td>\n",
       "      <td>1</td>\n",
       "      <td>1</td>\n",
       "      <td>321</td>\n",
       "      <td>24.04</td>\n",
       "      <td>73.90</td>\n",
       "      <td>...</td>\n",
       "      <td>3</td>\n",
       "      <td>6</td>\n",
       "      <td>7</td>\n",
       "      <td>14</td>\n",
       "      <td>22</td>\n",
       "      <td>11</td>\n",
       "      <td>6</td>\n",
       "      <td>9</td>\n",
       "      <td>0.7646</td>\n",
       "      <td>thats great hear hope know despite harsh word ...</td>\n",
       "    </tr>\n",
       "  </tbody>\n",
       "</table>\n",
       "<p>2 rows × 140 columns</p>\n",
       "</div>"
      ],
      "text/plain": [
       "                                              STATUS  cAGR  cOPN  cCON  cEXT  \\\n",
       "0  Those stats come from the test. [Echoing the c...     0     1     0     0   \n",
       "1  That's great to hear! I hope you know that, de...     0     1     0     0   \n",
       "\n",
       "   cNEU  Segment   WC  Analytic  Clout  ...  disgust  fear  joy  negative  \\\n",
       "0     1        1  152     72.80  40.06  ...        0     1    2         2   \n",
       "1     1        1  321     24.04  73.90  ...        3     6    7        14   \n",
       "\n",
       "   positive  sadness  surprise  trust  sent_score  \\\n",
       "0        12        0         2      6      0.3919   \n",
       "1        22       11         6      9      0.7646   \n",
       "\n",
       "                                      cleaned_status  \n",
       "0  stats come test echoing comment made related q...  \n",
       "1  thats great hear hope know despite harsh word ...  \n",
       "\n",
       "[2 rows x 140 columns]"
      ]
     },
     "execution_count": 12,
     "metadata": {},
     "output_type": "execute_result"
    }
   ],
   "source": [
    "def preprocess_text(text):\n",
    "    # 1. Convert to lowercase\n",
    "    text = text.lower()\n",
    "    \n",
    "    # 2. Remove URLs\n",
    "    text = re.sub(r'http\\S+|www\\S+|https\\S+', '', text, flags=re.MULTILINE)\n",
    "    \n",
    "    # 3. Remove mentions (@username)\n",
    "    text = re.sub(r'@\\w+', '', text)\n",
    "    \n",
    "    # 4. Remove hashtags (keep the word or remove completely)\n",
    "    text = re.sub(r'#\\w+', '', text)  # To keep the word, use: text = re.sub(r'#', '', text)\n",
    "    \n",
    "    # 5. Remove special characters, numbers, and punctuation\n",
    "    text = re.sub(r'[^a-z\\s]', '', text)  # To keep numbers, modify to: r'[^a-z0-9\\s]'\n",
    "    \n",
    "    # 6. Remove extra whitespace\n",
    "    text = re.sub(r'\\s+', ' ', text).strip()\n",
    "        \n",
    "    # 8. Tokenize words and lemmatize\n",
    "    tokens = text.split()\n",
    "    tokens = [lemmatizer.lemmatize(word) for word in tokens if word not in stop_words]\n",
    "    text = \" \".join(tokens)\n",
    "    \n",
    "    return text\n",
    "\n",
    "# Apply preprocessing to the column\n",
    "data['cleaned_status'] = data['STATUS'].apply(preprocess_text)\n",
    "\n",
    "data.head(2)\n"
   ]
  },
  {
   "cell_type": "code",
   "execution_count": 14,
   "metadata": {},
   "outputs": [
    {
     "name": "stdout",
     "output_type": "stream",
     "text": [
      "Data successfully split and saved!\n"
     ]
    }
   ],
   "source": [
    "train_data, test_data = train_test_split(data, test_size=0.1, random_state=42)\n",
    "train_data.to_csv('/data/jmharja/projects/PersonaClassifier/data/pandora_processed_train_nov26.csv', index=False)\n",
    "# val_data.to_csv('val_data_nov26.csv', index=False)\n",
    "test_data.to_csv('/data/jmharja/projects/PersonaClassifier/data/pandora_processed_test_nov26.csv', index=False)\n",
    "\n",
    "print(\"Data successfully split and saved!\")"
   ]
  }
 ],
 "metadata": {
  "kernelspec": {
   "display_name": "gpu2",
   "language": "python",
   "name": "gpu2"
  },
  "language_info": {
   "codemirror_mode": {
    "name": "ipython",
    "version": 3
   },
   "file_extension": ".py",
   "mimetype": "text/x-python",
   "name": "python",
   "nbconvert_exporter": "python",
   "pygments_lexer": "ipython3",
   "version": "3.10.14"
  }
 },
 "nbformat": 4,
 "nbformat_minor": 2
}
