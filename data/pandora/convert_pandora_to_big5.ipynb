{
 "cells": [
  {
   "cell_type": "code",
   "execution_count": 5,
   "metadata": {},
   "outputs": [],
   "source": [
    "import pandas as pd\n",
    "import numpy \n",
    "import csv"
   ]
  },
  {
   "cell_type": "code",
   "execution_count": 31,
   "metadata": {},
   "outputs": [],
   "source": [
    "\n",
    "# df = pd.read_csv('all_comments_since_2015.csv', error_bad_lines=False, warn_bad_lines=True)\n",
    "# df = pd.read_csv('all_comments_since_2015.csv', delimiter=',', quotechar='\"', error_bad_lines=False)\n",
    "# df = pd.read_csv('all_comments_since_2015.csv', on_bad_lines='skip')\n",
    "# df = pd.read_csv('all_comments_since_2015.csv', engine='python')\n",
    "# df = pd.read_csv('all_comments_since_2015.csv', quoting=csv.QUOTE_NONE)\n"
   ]
  },
  {
   "cell_type": "code",
   "execution_count": 6,
   "metadata": {},
   "outputs": [],
   "source": [
    "def handle_bad_line(bad_line):\n",
    "    print(f\"Bad line: {bad_line}\")\n",
    "    return None  # Returning None will skip the bad line\n",
    "c_df = pd.read_csv('all_comments_since_2015.csv', on_bad_lines='skip', engine='python')\n",
    "a_df = pd.read_csv('./author_profiles.csv')\n",
    "\n",
    "print(c_df.shape, c_df.groupby('author').nunique().shape)\n",
    "print(a_df.shape)\n"
   ]
  },
  {
   "cell_type": "code",
   "execution_count": 60,
   "metadata": {},
   "outputs": [
    {
     "name": "stdout",
     "output_type": "stream",
     "text": [
      "(1568, 38) (58252, 54)\n"
     ]
    }
   ],
   "source": [
    "big_5_a_df = a_df.dropna(subset=['agreeableness', 'openness', 'conscientiousness', 'extraversion','neuroticism'])\n",
    "# big_5_a_df.head(2)[['author', 'mbti', 'type', 'agreeableness', 'openness', 'conscientiousness', 'extraversion', 'neuroticism',  'num_comments', 'en_comments', 'is_female', 'is_female_pred', 'is_female_proba']]\n",
    "# big_5_a_df.groupby('mbti').size()\n",
    "all_df = pd.merge(c_df, big_5_a_df, on='author', how='inner') \n",
    "# all_df = all_df[all_df['lang'] =='en']\n",
    "print(big_5_a_df.shape, all_df.shape)"
   ]
  },
  {
   "cell_type": "code",
   "execution_count": 61,
   "metadata": {},
   "outputs": [
    {
     "name": "stdout",
     "output_type": "stream",
     "text": [
      "total author = (10295, 38)\n",
      "total unique author = (10295, 37)\n",
      "total unique big 5 author = (1568, 37)\n",
      "------------------------------\n",
      "total comments = (1541609, 17)\n",
      "total unique author in comments = (8388, 16)\n",
      "total big 5 author w/ comments = (222, 53)\n",
      "total big 5 authers' comments (58252, 54)\n"
     ]
    }
   ],
   "source": [
    "print(f\"total author = {a_df.shape}\")\n",
    "print(f\"total unique author = {a_df.groupby('author').nunique().shape}\")\n",
    "print(f\"total unique big 5 author = {big_5_a_df.groupby('author').nunique().shape}\")\n",
    "print(30*\"-\")\n",
    "print(f\"total comments = {c_df.shape}\")\n",
    "print(f\"total unique author in comments = {c_df.groupby('author').nunique().shape}\")\n",
    "print(f\"total big 5 author w/ comments = {all_df.groupby('author').nunique().shape}\")\n",
    "print(f\"total big 5 authers' comments {all_df.shape}\")"
   ]
  },
  {
   "cell_type": "code",
   "execution_count": 110,
   "metadata": {},
   "outputs": [],
   "source": [
    "df = all_df[all_df['lang'] =='en']\n",
    "df = df[df['word_count_quoteless']>1]\n",
    "s = df[['author', 'author_flair_text', 'body', 'word_count_quoteless', 'agreeableness', 'openness', 'conscientiousness', 'extraversion', 'neuroticism']]"
   ]
  },
  {
   "cell_type": "code",
   "execution_count": 112,
   "metadata": {},
   "outputs": [
    {
     "name": "stdout",
     "output_type": "stream",
     "text": [
      "(51818, 7)\n"
     ]
    },
    {
     "name": "stderr",
     "output_type": "stream",
     "text": [
      "/tmp/ipykernel_3833105/4127025579.py:1: SettingWithCopyWarning: \n",
      "A value is trying to be set on a copy of a slice from a DataFrame\n",
      "\n",
      "See the caveats in the documentation: https://pandas.pydata.org/pandas-docs/stable/user_guide/indexing.html#returning-a-view-versus-a-copy\n",
      "  s.rename(columns= {'author':'#AUTHID', 'body': 'STATUS', 'openness': 'cOPN', 'extraversion': 'cEXT', 'neuroticism': 'cNEU', 'agreeableness' : 'cAGR', 'conscientiousness':'cCON'},inplace=True)\n"
     ]
    }
   ],
   "source": [
    "cols = ['openness', 'extraversion', 'neuroticism', 'agreeableness','conscientiousness']\n",
    "s.loc[:, cols] = df.loc[:, cols] / 20 # scaled the score to 5\n",
    "s.rename(columns= {'author':'#AUTHID', 'body': 'STATUS', 'openness': 'cOPN', 'extraversion': 'cEXT', 'neuroticism': 'cNEU', 'agreeableness' : 'cAGR', 'conscientiousness':'cCON'},inplace=True)\n",
    "s = s.drop(['author_flair_text', 'word_count_quoteless'], axis=1)\n",
    "print(s.shape)"
   ]
  },
  {
   "cell_type": "code",
   "execution_count": null,
   "metadata": {},
   "outputs": [],
   "source": [
    "# cols = ['cOPN', 'cEXT', 'cNEU', 'cAGR', 'cCON']\n",
    "# for col in cols:\n",
    "#     mean_value = s[col].mean()\n",
    "#     s[f'{col}'] = s[col] > mean_value\n",
    "#     s[cols] = s[cols].replace({True: 1, False: 0})  "
   ]
  },
  {
   "cell_type": "code",
   "execution_count": 114,
   "metadata": {},
   "outputs": [],
   "source": [
    "s.to_csv('../pandora_to_big5.csv')"
   ]
  }
 ],
 "metadata": {
  "kernelspec": {
   "display_name": "gpu2",
   "language": "python",
   "name": "gpu2"
  },
  "language_info": {
   "codemirror_mode": {
    "name": "ipython",
    "version": 3
   },
   "file_extension": ".py",
   "mimetype": "text/x-python",
   "name": "python",
   "nbconvert_exporter": "python",
   "pygments_lexer": "ipython3",
   "version": "3.10.14"
  }
 },
 "nbformat": 4,
 "nbformat_minor": 2
}
