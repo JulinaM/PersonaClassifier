{
 "cells": [
  {
   "cell_type": "code",
   "execution_count": 1,
   "metadata": {},
   "outputs": [],
   "source": [
    "import pandas as pd\n",
    "import numpy \n",
    "import csv\n",
    "pd.options.display.max_rows = 10\n",
    "pd.options.display.float_format = \"{:.1f}\".format"
   ]
  },
  {
   "cell_type": "code",
   "execution_count": 2,
   "metadata": {},
   "outputs": [],
   "source": [
    "\n",
    "# df = pd.read_csv('all_comments_since_2015.csv', error_bad_lines=False, warn_bad_lines=True)\n",
    "# df = pd.read_csv('all_comments_since_2015.csv', delimiter=',', quotechar='\"', error_bad_lines=False)\n",
    "# df = pd.read_csv('all_comments_since_2015.csv', on_bad_lines='skip')\n",
    "# df = pd.read_csv('all_comments_since_2015.csv', engine='python')\n",
    "# df = pd.read_csv('all_comments_since_2015.csv', quoting=csv.QUOTE_NONE)\n"
   ]
  },
  {
   "cell_type": "code",
   "execution_count": 3,
   "metadata": {},
   "outputs": [
    {
     "name": "stdout",
     "output_type": "stream",
     "text": [
      "(1541609, 17) (8388, 16)\n",
      "(10295, 38)\n"
     ]
    }
   ],
   "source": [
    "def handle_bad_line(bad_line):\n",
    "    print(f\"Bad line: {bad_line}\")\n",
    "    return None  # Returning None will skip the bad line\n",
    "c_df = pd.read_csv('all_comments_since_2015.csv', on_bad_lines='skip', engine='python')\n",
    "a_df = pd.read_csv('./author_profiles.csv')\n",
    "\n",
    "print(c_df.shape, c_df.groupby('author').nunique().shape)\n",
    "print(a_df.shape)\n"
   ]
  },
  {
   "cell_type": "code",
   "execution_count": 4,
   "metadata": {},
   "outputs": [
    {
     "name": "stdout",
     "output_type": "stream",
     "text": [
      "(1568, 38) (58252, 54)\n"
     ]
    }
   ],
   "source": [
    "big_5_a_df = a_df.dropna(subset=['agreeableness', 'openness', 'conscientiousness', 'extraversion','neuroticism'])\n",
    "# big_5_a_df.head(2)[['author', 'mbti', 'type', 'agreeableness', 'openness', 'conscientiousness', 'extraversion', 'neuroticism',  'num_comments', 'en_comments', 'is_female', 'is_female_pred', 'is_female_proba']]\n",
    "# big_5_a_df.groupby('mbti').size()\n",
    "all_df = pd.merge(c_df, big_5_a_df, on='author', how='inner') \n",
    "# all_df = all_df[all_df['lang'] =='en']\n",
    "print(big_5_a_df.shape, all_df.shape)"
   ]
  },
  {
   "cell_type": "code",
   "execution_count": 5,
   "metadata": {},
   "outputs": [
    {
     "name": "stdout",
     "output_type": "stream",
     "text": [
      "total author = (10295, 38)\n",
      "total unique author = (10295, 37)\n",
      "total unique big 5 author = (1568, 37)\n",
      "------------------------------\n",
      "total comments = (1541609, 17)\n"
     ]
    },
    {
     "name": "stdout",
     "output_type": "stream",
     "text": [
      "total unique author in comments = (8388, 16)\n",
      "total big 5 author w/ comments = (222, 53)\n",
      "total big 5 authers' comments (58252, 54)\n"
     ]
    }
   ],
   "source": [
    "print(f\"total author = {a_df.shape}\")\n",
    "print(f\"total unique author = {a_df.groupby('author').nunique().shape}\")\n",
    "print(f\"total unique big 5 author = {big_5_a_df.groupby('author').nunique().shape}\")\n",
    "print(30*\"-\")\n",
    "print(f\"total comments = {c_df.shape}\")\n",
    "print(f\"total unique author in comments = {c_df.groupby('author').nunique().shape}\")\n",
    "print(f\"total big 5 author w/ comments = {all_df.groupby('author').nunique().shape}\")\n",
    "print(f\"total big 5 authers' comments {all_df.shape}\")"
   ]
  },
  {
   "cell_type": "code",
   "execution_count": 8,
   "metadata": {},
   "outputs": [
    {
     "data": {
      "text/plain": [
       "(51818, 7)"
      ]
     },
     "execution_count": 8,
     "metadata": {},
     "output_type": "execute_result"
    }
   ],
   "source": [
    "df = all_df[all_df['lang'] =='en']\n",
    "df = df[df['word_count_quoteless']>1]\n",
    "s = df[['author', 'body', 'agreeableness', 'openness', 'conscientiousness', 'extraversion', 'neuroticism']]\n",
    "s= s.rename(columns= {'author':'#AUTHID', 'body': 'STATUS'})\n",
    "s.shape"
   ]
  },
  {
   "cell_type": "code",
   "execution_count": 9,
   "metadata": {},
   "outputs": [
    {
     "data": {
      "text/html": [
       "<div>\n",
       "<style scoped>\n",
       "    .dataframe tbody tr th:only-of-type {\n",
       "        vertical-align: middle;\n",
       "    }\n",
       "\n",
       "    .dataframe tbody tr th {\n",
       "        vertical-align: top;\n",
       "    }\n",
       "\n",
       "    .dataframe thead th {\n",
       "        text-align: right;\n",
       "    }\n",
       "</style>\n",
       "<table border=\"1\" class=\"dataframe\">\n",
       "  <thead>\n",
       "    <tr style=\"text-align: right;\">\n",
       "      <th></th>\n",
       "      <th>agreeableness</th>\n",
       "      <th>openness</th>\n",
       "      <th>conscientiousness</th>\n",
       "      <th>extraversion</th>\n",
       "      <th>neuroticism</th>\n",
       "    </tr>\n",
       "  </thead>\n",
       "  <tbody>\n",
       "    <tr>\n",
       "      <th>count</th>\n",
       "      <td>51818.0</td>\n",
       "      <td>51818.0</td>\n",
       "      <td>51818.0</td>\n",
       "      <td>51818.0</td>\n",
       "      <td>51818.0</td>\n",
       "    </tr>\n",
       "    <tr>\n",
       "      <th>mean</th>\n",
       "      <td>35.4</td>\n",
       "      <td>68.7</td>\n",
       "      <td>33.6</td>\n",
       "      <td>35.7</td>\n",
       "      <td>43.9</td>\n",
       "    </tr>\n",
       "    <tr>\n",
       "      <th>std</th>\n",
       "      <td>29.1</td>\n",
       "      <td>22.5</td>\n",
       "      <td>31.3</td>\n",
       "      <td>32.1</td>\n",
       "      <td>30.2</td>\n",
       "    </tr>\n",
       "    <tr>\n",
       "      <th>min</th>\n",
       "      <td>0.0</td>\n",
       "      <td>4.0</td>\n",
       "      <td>0.0</td>\n",
       "      <td>0.0</td>\n",
       "      <td>0.0</td>\n",
       "    </tr>\n",
       "    <tr>\n",
       "      <th>25%</th>\n",
       "      <td>9.0</td>\n",
       "      <td>59.0</td>\n",
       "      <td>10.0</td>\n",
       "      <td>4.0</td>\n",
       "      <td>15.0</td>\n",
       "    </tr>\n",
       "    <tr>\n",
       "      <th>50%</th>\n",
       "      <td>26.0</td>\n",
       "      <td>73.0</td>\n",
       "      <td>16.0</td>\n",
       "      <td>24.0</td>\n",
       "      <td>41.0</td>\n",
       "    </tr>\n",
       "    <tr>\n",
       "      <th>75%</th>\n",
       "      <td>57.0</td>\n",
       "      <td>86.0</td>\n",
       "      <td>55.0</td>\n",
       "      <td>70.0</td>\n",
       "      <td>72.0</td>\n",
       "    </tr>\n",
       "    <tr>\n",
       "      <th>max</th>\n",
       "      <td>99.0</td>\n",
       "      <td>99.0</td>\n",
       "      <td>98.0</td>\n",
       "      <td>99.0</td>\n",
       "      <td>99.0</td>\n",
       "    </tr>\n",
       "  </tbody>\n",
       "</table>\n",
       "</div>"
      ],
      "text/plain": [
       "       agreeableness  openness  conscientiousness  extraversion  neuroticism\n",
       "count        51818.0   51818.0            51818.0       51818.0      51818.0\n",
       "mean            35.4      68.7               33.6          35.7         43.9\n",
       "std             29.1      22.5               31.3          32.1         30.2\n",
       "min              0.0       4.0                0.0           0.0          0.0\n",
       "25%              9.0      59.0               10.0           4.0         15.0\n",
       "50%             26.0      73.0               16.0          24.0         41.0\n",
       "75%             57.0      86.0               55.0          70.0         72.0\n",
       "max             99.0      99.0               98.0          99.0         99.0"
      ]
     },
     "execution_count": 9,
     "metadata": {},
     "output_type": "execute_result"
    }
   ],
   "source": [
    "s.describe()"
   ]
  },
  {
   "cell_type": "code",
   "execution_count": 7,
   "metadata": {},
   "outputs": [],
   "source": [
    "cols = ['openness', 'extraversion', 'neuroticism', 'agreeableness','conscientiousness']\n",
    "n_cols = ['cOPN', 'cEXT', 'cNEU', 'cAGR', 'cCON']\n",
    "norm_cols = ['nOPN', ' EXT', 'nNEU', 'nAGR', 'nCON']\n",
    "std_cols = ['sOPN', 'sEXT', 'sNEU', 'sAGR', 'sCON']\n",
    "\n",
    "from sklearn.preprocessing import MinMaxScaler, StandardScaler\n",
    "min_max_scaler = MinMaxScaler()\n",
    "standard_scaler = StandardScaler()\n",
    "\n",
    "for col, n_col, norm_col, std_col in zip(cols, n_cols, norm_cols, std_cols):\n",
    "    s[[n_col]] = s[[col]]/20\n",
    "    s[[norm_col]] = min_max_scaler.fit_transform(s[[col]])\n",
    "    s[[std_col]] = standard_scaler.fit_transform(s[[col]])\n"
   ]
  },
  {
   "cell_type": "code",
   "execution_count": 87,
   "metadata": {},
   "outputs": [
    {
     "data": {
      "text/html": [
       "<div>\n",
       "<style scoped>\n",
       "    .dataframe tbody tr th:only-of-type {\n",
       "        vertical-align: middle;\n",
       "    }\n",
       "\n",
       "    .dataframe tbody tr th {\n",
       "        vertical-align: top;\n",
       "    }\n",
       "\n",
       "    .dataframe thead th {\n",
       "        text-align: right;\n",
       "    }\n",
       "</style>\n",
       "<table border=\"1\" class=\"dataframe\">\n",
       "  <thead>\n",
       "    <tr style=\"text-align: right;\">\n",
       "      <th></th>\n",
       "      <th>#AUTHID</th>\n",
       "      <th>STATUS</th>\n",
       "      <th>agreeableness</th>\n",
       "      <th>openness</th>\n",
       "      <th>conscientiousness</th>\n",
       "      <th>extraversion</th>\n",
       "      <th>neuroticism</th>\n",
       "      <th>cOPN</th>\n",
       "      <th>nOPN</th>\n",
       "      <th>sOPN</th>\n",
       "      <th>...</th>\n",
       "      <th>sEXT</th>\n",
       "      <th>cNEU</th>\n",
       "      <th>nNEU</th>\n",
       "      <th>sNEU</th>\n",
       "      <th>cAGR</th>\n",
       "      <th>nAGR</th>\n",
       "      <th>sAGR</th>\n",
       "      <th>cCON</th>\n",
       "      <th>nCON</th>\n",
       "      <th>sCON</th>\n",
       "    </tr>\n",
       "  </thead>\n",
       "  <tbody>\n",
       "    <tr>\n",
       "      <th>0</th>\n",
       "      <td>MetricExpansion</td>\n",
       "      <td>Those stats come from the test. [Echoing the c...</td>\n",
       "      <td>30.0</td>\n",
       "      <td>70.0</td>\n",
       "      <td>15.0</td>\n",
       "      <td>15.0</td>\n",
       "      <td>50.0</td>\n",
       "      <td>1</td>\n",
       "      <td>1</td>\n",
       "      <td>1</td>\n",
       "      <td>...</td>\n",
       "      <td>0</td>\n",
       "      <td>1</td>\n",
       "      <td>1</td>\n",
       "      <td>1</td>\n",
       "      <td>0</td>\n",
       "      <td>0</td>\n",
       "      <td>0</td>\n",
       "      <td>0</td>\n",
       "      <td>0</td>\n",
       "      <td>0</td>\n",
       "    </tr>\n",
       "    <tr>\n",
       "      <th>1</th>\n",
       "      <td>MetricExpansion</td>\n",
       "      <td>That's great to hear! I hope you know that, de...</td>\n",
       "      <td>30.0</td>\n",
       "      <td>70.0</td>\n",
       "      <td>15.0</td>\n",
       "      <td>15.0</td>\n",
       "      <td>50.0</td>\n",
       "      <td>1</td>\n",
       "      <td>1</td>\n",
       "      <td>1</td>\n",
       "      <td>...</td>\n",
       "      <td>0</td>\n",
       "      <td>1</td>\n",
       "      <td>1</td>\n",
       "      <td>1</td>\n",
       "      <td>0</td>\n",
       "      <td>0</td>\n",
       "      <td>0</td>\n",
       "      <td>0</td>\n",
       "      <td>0</td>\n",
       "      <td>0</td>\n",
       "    </tr>\n",
       "  </tbody>\n",
       "</table>\n",
       "<p>2 rows × 22 columns</p>\n",
       "</div>"
      ],
      "text/plain": [
       "           #AUTHID                                             STATUS  \\\n",
       "0  MetricExpansion  Those stats come from the test. [Echoing the c...   \n",
       "1  MetricExpansion  That's great to hear! I hope you know that, de...   \n",
       "\n",
       "   agreeableness  openness  conscientiousness  extraversion  neuroticism  \\\n",
       "0           30.0      70.0               15.0          15.0         50.0   \n",
       "1           30.0      70.0               15.0          15.0         50.0   \n",
       "\n",
       "   cOPN  nOPN  sOPN  ...  sEXT  cNEU  nNEU  sNEU  cAGR  nAGR  sAGR  cCON  \\\n",
       "0     1     1     1  ...     0     1     1     1     0     0     0     0   \n",
       "1     1     1     1  ...     0     1     1     1     0     0     0     0   \n",
       "\n",
       "   nCON  sCON  \n",
       "0     0     0  \n",
       "1     0     0  \n",
       "\n",
       "[2 rows x 22 columns]"
      ]
     },
     "execution_count": 87,
     "metadata": {},
     "output_type": "execute_result"
    }
   ],
   "source": [
    "means = {}\n",
    "for n_col, norm_col, std_col in zip( n_cols, norm_cols, std_cols):\n",
    "    means[n_col] = s[n_col].mean()\n",
    "    means[norm_col] = s[norm_col].mean()\n",
    "    means[std_col] = s[std_col].mean()\n",
    "    s[n_col] = s[n_col] > means[n_col]\n",
    "    s[norm_col] = s[n_col] > means[norm_col]\n",
    "    s[std_col] = s[std_col] > means[std_col]\n",
    "s[n_cols] = s[n_cols].replace({True: 1, False: 0})  \n",
    "s[norm_cols] = s[norm_cols].replace({True: 1, False: 0})  \n",
    "s[std_cols] = s[std_cols].replace({True: 1, False: 0})  \n",
    "\n",
    "s.head(2)"
   ]
  },
  {
   "cell_type": "code",
   "execution_count": 134,
   "metadata": {},
   "outputs": [
    {
     "name": "stdout",
     "output_type": "stream",
     "text": [
      "Empty DataFrame\n",
      "Columns: [openness, cOPN, nOPN, sOPN]\n",
      "Index: []\n",
      "Empty DataFrame\n",
      "Columns: [extraversion, cEXT,  EXT, sEXT]\n",
      "Index: []\n",
      "Empty DataFrame\n",
      "Columns: [neuroticism, cNEU, nNEU, sNEU]\n",
      "Index: []\n",
      "Empty DataFrame\n",
      "Columns: [agreeableness, cAGR, nAGR, sAGR]\n",
      "Index: []\n",
      "Empty DataFrame\n",
      "Columns: [conscientiousness, cCON, nCON, sCON]\n",
      "Index: []\n"
     ]
    }
   ],
   "source": [
    "for col, n_col, norm_col, std_col in zip(cols, n_cols, norm_cols, std_cols):\n",
    "    print(s[[col] + [n_col]  + [norm_col] + [std_col]][s[n_col] != s[std_col]])\n",
    "# s[['cAGR', 'nAGR', 'sAGR', 'agreeableness']]"
   ]
  },
  {
   "cell_type": "code",
   "execution_count": 114,
   "metadata": {},
   "outputs": [],
   "source": [
    "# s.to_csv('../pandora_to_big5.csv')"
   ]
  },
  {
   "cell_type": "code",
   "execution_count": 152,
   "metadata": {},
   "outputs": [
    {
     "data": {
      "text/html": [
       "<div>\n",
       "<style scoped>\n",
       "    .dataframe tbody tr th:only-of-type {\n",
       "        vertical-align: middle;\n",
       "    }\n",
       "\n",
       "    .dataframe tbody tr th {\n",
       "        vertical-align: top;\n",
       "    }\n",
       "\n",
       "    .dataframe thead th {\n",
       "        text-align: right;\n",
       "    }\n",
       "</style>\n",
       "<table border=\"1\" class=\"dataframe\">\n",
       "  <thead>\n",
       "    <tr style=\"text-align: right;\">\n",
       "      <th></th>\n",
       "      <th>#AUTHID</th>\n",
       "      <th>STATUS</th>\n",
       "      <th>sOPN</th>\n",
       "      <th>sEXT</th>\n",
       "      <th>sNEU</th>\n",
       "      <th>sAGR</th>\n",
       "      <th>sCON</th>\n",
       "      <th>cOPN</th>\n",
       "      <th>cEXT</th>\n",
       "      <th>cNEU</th>\n",
       "      <th>...</th>\n",
       "      <th>nOPN</th>\n",
       "      <th>sdOPN</th>\n",
       "      <th>EXT</th>\n",
       "      <th>sdEXT</th>\n",
       "      <th>nNEU</th>\n",
       "      <th>sdNEU</th>\n",
       "      <th>nAGR</th>\n",
       "      <th>sdAGR</th>\n",
       "      <th>nCON</th>\n",
       "      <th>sdCON</th>\n",
       "    </tr>\n",
       "  </thead>\n",
       "  <tbody>\n",
       "    <tr>\n",
       "      <th>0</th>\n",
       "      <td>b7b7764cfa1c523e4e93ab2a79a946c4</td>\n",
       "      <td>likes the sound of thunder.</td>\n",
       "      <td>4.4</td>\n",
       "      <td>2.6</td>\n",
       "      <td>3.0</td>\n",
       "      <td>3.1</td>\n",
       "      <td>3.2</td>\n",
       "      <td>y</td>\n",
       "      <td>n</td>\n",
       "      <td>y</td>\n",
       "      <td>...</td>\n",
       "      <td>0.8</td>\n",
       "      <td>0.5</td>\n",
       "      <td>0.4</td>\n",
       "      <td>-0.8</td>\n",
       "      <td>0.5</td>\n",
       "      <td>0.5</td>\n",
       "      <td>0.4</td>\n",
       "      <td>-0.7</td>\n",
       "      <td>0.5</td>\n",
       "      <td>-0.3</td>\n",
       "    </tr>\n",
       "  </tbody>\n",
       "</table>\n",
       "<p>1 rows × 22 columns</p>\n",
       "</div>"
      ],
      "text/plain": [
       "                            #AUTHID                       STATUS  sOPN  sEXT  \\\n",
       "0  b7b7764cfa1c523e4e93ab2a79a946c4  likes the sound of thunder.   4.4   2.6   \n",
       "\n",
       "   sNEU  sAGR  sCON cOPN cEXT cNEU  ... nOPN sdOPN   EXT  sdEXT  nNEU  sdNEU  \\\n",
       "0   3.0   3.1   3.2    y    n    y  ...  0.8   0.5   0.4   -0.8   0.5    0.5   \n",
       "\n",
       "   nAGR  sdAGR  nCON  sdCON  \n",
       "0   0.4   -0.7   0.5   -0.3  \n",
       "\n",
       "[1 rows x 22 columns]"
      ]
     },
     "execution_count": 152,
     "metadata": {},
     "output_type": "execute_result"
    }
   ],
   "source": [
    "s_cols = ['sOPN', 'sEXT', 'sNEU', 'sAGR', 'sCON']\n",
    "n_cols = ['cOPN', 'cEXT', 'cNEU', 'cAGR', 'cCON']\n",
    "norm_cols = ['nOPN', ' EXT', 'nNEU', 'nAGR', 'nCON']\n",
    "std_cols = ['sdOPN', 'sdEXT', 'sdNEU', 'sdAGR', 'sdCON']\n",
    "\n",
    "s = pd.read_csv('../mypersonality.csv', encoding='Windows-1252')\n",
    "s= s[['#AUTHID', 'STATUS'] + s_cols + n_cols]\n",
    "\n",
    "from sklearn.preprocessing import MinMaxScaler, StandardScaler\n",
    "min_max_scaler = MinMaxScaler()\n",
    "standard_scaler = StandardScaler()\n",
    "\n",
    "for col, norm_col, std_col in zip(s_cols, norm_cols, std_cols):\n",
    "    s[[norm_col]] = min_max_scaler.fit_transform(s[[col]])\n",
    "    s[[std_col]] = standard_scaler.fit_transform(s[[col]])\n",
    "s.head(1)"
   ]
  },
  {
   "cell_type": "code",
   "execution_count": 153,
   "metadata": {},
   "outputs": [],
   "source": [
    "means = {}\n",
    "for s_col, norm_col, std_col in zip(s_cols, norm_cols, std_cols):\n",
    "    means[s_col] = s[s_col].mean()\n",
    "    means[norm_col] = s[norm_col].mean()\n",
    "    means[std_col] = s[std_col].mean()\n",
    "    s[s_col] = s[s_col] > means[s_col]\n",
    "    s[norm_col] = s[norm_col] > means[norm_col]\n",
    "    s[std_col] = s[std_col] > means[std_col]\n",
    "s[s_cols] = s[s_cols].replace({True: 1, False: 0})  \n",
    "s[norm_cols] = s[norm_cols].replace({True: 1, False: 0})  \n",
    "s[std_cols] = s[std_cols].replace({True: 1, False: 0})  \n",
    "# s[n_cols] = s[std_cols].replace({'y': 1, 'n': 0})  "
   ]
  },
  {
   "cell_type": "code",
   "execution_count": 155,
   "metadata": {},
   "outputs": [
    {
     "name": "stdout",
     "output_type": "stream",
     "text": [
      "Empty DataFrame\n",
      "Columns: [sOPN, cOPN, nOPN, sdOPN]\n",
      "Index: []\n",
      "Empty DataFrame\n",
      "Columns: [sEXT, cEXT,  EXT, sdEXT]\n",
      "Index: []\n",
      "Empty DataFrame\n",
      "Columns: [sNEU, cNEU, nNEU, sdNEU]\n",
      "Index: []\n",
      "Empty DataFrame\n",
      "Columns: [sAGR, cAGR, nAGR, sdAGR]\n",
      "Index: []\n",
      "Empty DataFrame\n",
      "Columns: [sCON, cCON, nCON, sdCON]\n",
      "Index: []\n"
     ]
    }
   ],
   "source": [
    "for col, n_col, norm_col, std_col in zip(s_cols, n_cols, norm_cols, std_cols):\n",
    "    print(s[[col] + [n_col]  + [norm_col] + [std_col]][s[std_col] != s[norm_col]])"
   ]
  },
  {
   "cell_type": "code",
   "execution_count": 178,
   "metadata": {},
   "outputs": [
    {
     "data": {
      "text/html": [
       "<div>\n",
       "<style scoped>\n",
       "    .dataframe tbody tr th:only-of-type {\n",
       "        vertical-align: middle;\n",
       "    }\n",
       "\n",
       "    .dataframe tbody tr th {\n",
       "        vertical-align: top;\n",
       "    }\n",
       "\n",
       "    .dataframe thead th {\n",
       "        text-align: right;\n",
       "    }\n",
       "</style>\n",
       "<table border=\"1\" class=\"dataframe\">\n",
       "  <thead>\n",
       "    <tr style=\"text-align: right;\">\n",
       "      <th></th>\n",
       "      <th>cAGR</th>\n",
       "      <th>nAGR</th>\n",
       "      <th>sdAGR</th>\n",
       "      <th>sAGR</th>\n",
       "    </tr>\n",
       "  </thead>\n",
       "  <tbody>\n",
       "    <tr>\n",
       "      <th>6149</th>\n",
       "      <td>y</td>\n",
       "      <td>1</td>\n",
       "      <td>1</td>\n",
       "      <td>1</td>\n",
       "    </tr>\n",
       "    <tr>\n",
       "      <th>3116</th>\n",
       "      <td>y</td>\n",
       "      <td>1</td>\n",
       "      <td>1</td>\n",
       "      <td>1</td>\n",
       "    </tr>\n",
       "    <tr>\n",
       "      <th>2939</th>\n",
       "      <td>y</td>\n",
       "      <td>0</td>\n",
       "      <td>0</td>\n",
       "      <td>0</td>\n",
       "    </tr>\n",
       "    <tr>\n",
       "      <th>8113</th>\n",
       "      <td>n</td>\n",
       "      <td>0</td>\n",
       "      <td>0</td>\n",
       "      <td>0</td>\n",
       "    </tr>\n",
       "    <tr>\n",
       "      <th>5039</th>\n",
       "      <td>n</td>\n",
       "      <td>0</td>\n",
       "      <td>0</td>\n",
       "      <td>0</td>\n",
       "    </tr>\n",
       "  </tbody>\n",
       "</table>\n",
       "</div>"
      ],
      "text/plain": [
       "     cAGR  nAGR  sdAGR  sAGR\n",
       "6149    y     1      1     1\n",
       "3116    y     1      1     1\n",
       "2939    y     0      0     0\n",
       "8113    n     0      0     0\n",
       "5039    n     0      0     0"
      ]
     },
     "execution_count": 178,
     "metadata": {},
     "output_type": "execute_result"
    }
   ],
   "source": [
    "s[['cAGR', 'nAGR', 'sdAGR', 'sAGR']].sample(5)"
   ]
  },
  {
   "cell_type": "code",
   "execution_count": 183,
   "metadata": {},
   "outputs": [
    {
     "data": {
      "text/plain": [
       "STATUS    wants to be rich!!!!!!!!!!!!!! filthy. c'mon l...\n",
       "cAGR                                                      y\n",
       "nAGR                                                      0\n",
       "sdAGR                                                     0\n",
       "sAGR                                                      0\n",
       "Name: 2939, dtype: object"
      ]
     },
     "execution_count": 183,
     "metadata": {},
     "output_type": "execute_result"
    }
   ],
   "source": [
    "s[['STATUS'] +['cAGR', 'nAGR', 'sdAGR', 'sAGR']].iloc[2939]"
   ]
  }
 ],
 "metadata": {
  "kernelspec": {
   "display_name": "gpu2",
   "language": "python",
   "name": "gpu2"
  },
  "language_info": {
   "codemirror_mode": {
    "name": "ipython",
    "version": 3
   },
   "file_extension": ".py",
   "mimetype": "text/x-python",
   "name": "python",
   "nbconvert_exporter": "python",
   "pygments_lexer": "ipython3",
   "version": "3.10.14"
  }
 },
 "nbformat": 4,
 "nbformat_minor": 2
}
